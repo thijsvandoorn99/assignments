{
 "cells": [
  {
   "cell_type": "markdown",
   "metadata": {},
   "source": [
    "# Graded assignment 1\n",
    "\n",
    "NAME: Thijs van Doorn, 2011251\n",
    "\n",
    "\n",
    "# Packages\n",
    "\n",
    "We need the package `tidyverse`"
   ]
  },
  {
   "cell_type": "code",
   "execution_count": 32,
   "metadata": {},
   "outputs": [],
   "source": [
    "library(tidyverse) "
   ]
  },
  {
   "cell_type": "markdown",
   "metadata": {},
   "source": [
    "# Assignment 1\n",
    "\n",
    "First, we generate some random data:"
   ]
  },
  {
   "cell_type": "code",
   "execution_count": 33,
   "metadata": {},
   "outputs": [
    {
     "data": {
      "text/html": [
       "<table>\n",
       "<thead><tr><th scope=col>V1</th><th scope=col>V2</th><th scope=col>V3</th><th scope=col>V4</th><th scope=col>V5</th><th scope=col>V6</th><th scope=col>V7</th><th scope=col>V8</th><th scope=col>V9</th><th scope=col>V10</th><th scope=col>V11</th><th scope=col>V12</th><th scope=col>V13</th><th scope=col>V14</th><th scope=col>V15</th><th scope=col>V16</th><th scope=col>V17</th><th scope=col>V18</th><th scope=col>V19</th><th scope=col>V20</th></tr></thead>\n",
       "<tbody>\n",
       "\t<tr><td>0.8532122 </td><td>0.4051285 </td><td>0.6128804 </td><td>0.3559047 </td><td>0.0450176 </td><td>0.2322507 </td><td>0.06600429</td><td>0.05901835</td><td>0.9278946 </td><td>0.9456366 </td><td>0.6904395 </td><td>0.1654711 </td><td>0.8090000 </td><td>0.6811542 </td><td>0.6826123 </td><td>0.3411465 </td><td>0.06289493</td><td>0.7195121 </td><td>0.1903607 </td><td>0.7315862 </td></tr>\n",
       "\t<tr><td>0.6148122 </td><td>0.3893094 </td><td>0.4645185 </td><td>0.5165951 </td><td>0.8047518 </td><td>0.6560560 </td><td>0.02346480</td><td>0.74836396</td><td>0.1554255 </td><td>0.6121224 </td><td>0.3716771 </td><td>0.7743908 </td><td>0.5769894 </td><td>0.2646147 </td><td>0.9725503 </td><td>0.2906823 </td><td>0.15396847</td><td>0.8154456 </td><td>0.4453471 </td><td>0.1445923 </td></tr>\n",
       "</tbody>\n",
       "</table>\n"
      ],
      "text/latex": [
       "\\begin{tabular}{r|llllllllllllllllllll}\n",
       " V1 & V2 & V3 & V4 & V5 & V6 & V7 & V8 & V9 & V10 & V11 & V12 & V13 & V14 & V15 & V16 & V17 & V18 & V19 & V20\\\\\n",
       "\\hline\n",
       "\t 0.8532122  & 0.4051285  & 0.6128804  & 0.3559047  & 0.0450176  & 0.2322507  & 0.06600429 & 0.05901835 & 0.9278946  & 0.9456366  & 0.6904395  & 0.1654711  & 0.8090000  & 0.6811542  & 0.6826123  & 0.3411465  & 0.06289493 & 0.7195121  & 0.1903607  & 0.7315862 \\\\\n",
       "\t 0.6148122  & 0.3893094  & 0.4645185  & 0.5165951  & 0.8047518  & 0.6560560  & 0.02346480 & 0.74836396 & 0.1554255  & 0.6121224  & 0.3716771  & 0.7743908  & 0.5769894  & 0.2646147  & 0.9725503  & 0.2906823  & 0.15396847 & 0.8154456  & 0.4453471  & 0.1445923 \\\\\n",
       "\\end{tabular}\n"
      ],
      "text/markdown": [
       "\n",
       "V1 | V2 | V3 | V4 | V5 | V6 | V7 | V8 | V9 | V10 | V11 | V12 | V13 | V14 | V15 | V16 | V17 | V18 | V19 | V20 | \n",
       "|---|---|\n",
       "| 0.8532122  | 0.4051285  | 0.6128804  | 0.3559047  | 0.0450176  | 0.2322507  | 0.06600429 | 0.05901835 | 0.9278946  | 0.9456366  | 0.6904395  | 0.1654711  | 0.8090000  | 0.6811542  | 0.6826123  | 0.3411465  | 0.06289493 | 0.7195121  | 0.1903607  | 0.7315862  | \n",
       "| 0.6148122  | 0.3893094  | 0.4645185  | 0.5165951  | 0.8047518  | 0.6560560  | 0.02346480 | 0.74836396 | 0.1554255  | 0.6121224  | 0.3716771  | 0.7743908  | 0.5769894  | 0.2646147  | 0.9725503  | 0.2906823  | 0.15396847 | 0.8154456  | 0.4453471  | 0.1445923  | \n",
       "\n",
       "\n"
      ],
      "text/plain": [
       "  V1        V2        V3        V4        V5        V6        V7        \n",
       "1 0.8532122 0.4051285 0.6128804 0.3559047 0.0450176 0.2322507 0.06600429\n",
       "2 0.6148122 0.3893094 0.4645185 0.5165951 0.8047518 0.6560560 0.02346480\n",
       "  V8         V9        V10       V11       V12       V13       V14      \n",
       "1 0.05901835 0.9278946 0.9456366 0.6904395 0.1654711 0.8090000 0.6811542\n",
       "2 0.74836396 0.1554255 0.6121224 0.3716771 0.7743908 0.5769894 0.2646147\n",
       "  V15       V16       V17        V18       V19       V20      \n",
       "1 0.6826123 0.3411465 0.06289493 0.7195121 0.1903607 0.7315862\n",
       "2 0.9725503 0.2906823 0.15396847 0.8154456 0.4453471 0.1445923"
      ]
     },
     "metadata": {},
     "output_type": "display_data"
    }
   ],
   "source": [
    "df1 <- as.data.frame(matrix(runif(20*2), ncol=20) )\n",
    "head(df1)"
   ]
  },
  {
   "cell_type": "markdown",
   "metadata": {},
   "source": [
    "_df1_ is a wide dataframe. The goal of the assignment is to change _df1_ into a long dataframe _df2_. And show the first rows of the dataframe using `head(df2)`\n",
    "\n",
    "The dataframe _df2_ should look like this:\n",
    "\n",
    "| Key | Value      |\n",
    "|-----|------------|\n",
    "| V1  | 0.09413864 |\n",
    "| V1  | 0.69782526 |\n",
    "| V2  | 0.23460454 |\n",
    "| V2  | 0.51520514 |\n",
    "| V3  | 0.63181844 |\n",
    "| V3  | 0.22807211 |"
   ]
  },
  {
   "cell_type": "code",
   "execution_count": 34,
   "metadata": {},
   "outputs": [
    {
     "data": {
      "text/html": [
       "<table>\n",
       "<thead><tr><th scope=col>Key</th><th scope=col>Value</th></tr></thead>\n",
       "<tbody>\n",
       "\t<tr><td>V1       </td><td>0.8532122</td></tr>\n",
       "\t<tr><td>V1       </td><td>0.6148122</td></tr>\n",
       "\t<tr><td>V2       </td><td>0.4051285</td></tr>\n",
       "\t<tr><td>V2       </td><td>0.3893094</td></tr>\n",
       "\t<tr><td>V3       </td><td>0.6128804</td></tr>\n",
       "\t<tr><td>V3       </td><td>0.4645185</td></tr>\n",
       "</tbody>\n",
       "</table>\n"
      ],
      "text/latex": [
       "\\begin{tabular}{r|ll}\n",
       " Key & Value\\\\\n",
       "\\hline\n",
       "\t V1        & 0.8532122\\\\\n",
       "\t V1        & 0.6148122\\\\\n",
       "\t V2        & 0.4051285\\\\\n",
       "\t V2        & 0.3893094\\\\\n",
       "\t V3        & 0.6128804\\\\\n",
       "\t V3        & 0.4645185\\\\\n",
       "\\end{tabular}\n"
      ],
      "text/markdown": [
       "\n",
       "Key | Value | \n",
       "|---|---|---|---|---|---|\n",
       "| V1        | 0.8532122 | \n",
       "| V1        | 0.6148122 | \n",
       "| V2        | 0.4051285 | \n",
       "| V2        | 0.3893094 | \n",
       "| V3        | 0.6128804 | \n",
       "| V3        | 0.4645185 | \n",
       "\n",
       "\n"
      ],
      "text/plain": [
       "  Key Value    \n",
       "1 V1  0.8532122\n",
       "2 V1  0.6148122\n",
       "3 V2  0.4051285\n",
       "4 V2  0.3893094\n",
       "5 V3  0.6128804\n",
       "6 V3  0.4645185"
      ]
     },
     "metadata": {},
     "output_type": "display_data"
    }
   ],
   "source": [
    "df2 <- df1 %>% gather(Key,Value)\n",
    "  \n",
    "\n",
    "head(df2)"
   ]
  },
  {
   "cell_type": "markdown",
   "metadata": {},
   "source": [
    "## Assignment 2\n",
    "\n",
    "We will generate some data:"
   ]
  },
  {
   "cell_type": "code",
   "execution_count": 36,
   "metadata": {},
   "outputs": [
    {
     "data": {
      "text/html": [
       "<table>\n",
       "<thead><tr><th scope=col>id</th><th scope=col>V_1</th><th scope=col>V_2</th></tr></thead>\n",
       "<tbody>\n",
       "\t<tr><td>1        </td><td>42.46757 </td><td>-87.81005</td></tr>\n",
       "\t<tr><td>2        </td><td>42.04915 </td><td>-88.27303</td></tr>\n",
       "\t<tr><td>3        </td><td>39.11054 </td><td>-90.32408</td></tr>\n",
       "</tbody>\n",
       "</table>\n"
      ],
      "text/latex": [
       "\\begin{tabular}{r|lll}\n",
       " id & V\\_1 & V\\_2\\\\\n",
       "\\hline\n",
       "\t 1         & 42.46757  & -87.81005\\\\\n",
       "\t 2         & 42.04915  & -88.27303\\\\\n",
       "\t 3         & 39.11054  & -90.32408\\\\\n",
       "\\end{tabular}\n"
      ],
      "text/markdown": [
       "\n",
       "id | V_1 | V_2 | \n",
       "|---|---|---|\n",
       "| 1         | 42.46757  | -87.81005 | \n",
       "| 2         | 42.04915  | -88.27303 | \n",
       "| 3         | 39.11054  | -90.32408 | \n",
       "\n",
       "\n"
      ],
      "text/plain": [
       "  id V_1      V_2      \n",
       "1 1  42.46757 -87.81005\n",
       "2 2  42.04915 -88.27303\n",
       "3 3  39.11054 -90.32408"
      ]
     },
     "metadata": {},
     "output_type": "display_data"
    }
   ],
   "source": [
    "df3 <- as.data.frame(read.table(header=TRUE, text='\n",
    "      id        V_1       V_2                \n",
    "          1  42.467573  -87.810047     \n",
    "          2  42.049148  -88.273029\n",
    "          3  39.110539  -90.324080\n",
    "                       '))\n",
    "\n",
    "head(df3)"
   ]
  },
  {
   "cell_type": "code",
   "execution_count": 37,
   "metadata": {},
   "outputs": [
    {
     "data": {
      "text/html": [
       "<table>\n",
       "<thead><tr><th scope=col>V_3</th><th scope=col>V_4</th><th scope=col>id</th></tr></thead>\n",
       "<tbody>\n",
       "\t<tr><td>one  </td><td>1h   </td><td>1    </td></tr>\n",
       "\t<tr><td>two  </td><td>1h   </td><td>1    </td></tr>\n",
       "\t<tr><td>three</td><td>8h   </td><td>2    </td></tr>\n",
       "\t<tr><td>four </td><td>1h   </td><td>4    </td></tr>\n",
       "</tbody>\n",
       "</table>\n"
      ],
      "text/latex": [
       "\\begin{tabular}{r|lll}\n",
       " V\\_3 & V\\_4 & id\\\\\n",
       "\\hline\n",
       "\t one   & 1h    & 1    \\\\\n",
       "\t two   & 1h    & 1    \\\\\n",
       "\t three & 8h    & 2    \\\\\n",
       "\t four  & 1h    & 4    \\\\\n",
       "\\end{tabular}\n"
      ],
      "text/markdown": [
       "\n",
       "V_3 | V_4 | id | \n",
       "|---|---|---|---|\n",
       "| one   | 1h    | 1     | \n",
       "| two   | 1h    | 1     | \n",
       "| three | 8h    | 2     | \n",
       "| four  | 1h    | 4     | \n",
       "\n",
       "\n"
      ],
      "text/plain": [
       "  V_3   V_4 id\n",
       "1 one   1h  1 \n",
       "2 two   1h  1 \n",
       "3 three 8h  2 \n",
       "4 four  1h  4 "
      ]
     },
     "metadata": {},
     "output_type": "display_data"
    }
   ],
   "source": [
    "df4 <- as.data.frame(read.table(header=TRUE, text='\n",
    "     V_3            V_4         id                 \n",
    "      one         1h            1\n",
    "      two         1h            1\n",
    "      three       8h            2\n",
    "      four        1h            4\n",
    "'))\n",
    "\n",
    "head(df4)"
   ]
  },
  {
   "cell_type": "markdown",
   "metadata": {},
   "source": [
    "\n",
    "You will have to merge these files, returning all rows and all columns from both _df3_ and _df5_. Where there are not matching values, return _NA_ for the missings. \n",
    "\n",
    "This should be the end result:\n",
    "\n",
    "| id | V_1      | V_2       | V_3   | V_4 |\n",
    "|----|----------|-----------|-------|-----|\n",
    "| 1  | 42.46757 | -87.81005 | one   | 1h  |\n",
    "| 1  | 42.46757 | -87.81005 | two   | 1h  |\n",
    "| 2  | 42.04915 | -88.27303 | three | 8h  |\n",
    "| 3  | 39.11054 | -90.32408 | NA    | NA  |\n",
    "| 4  | NA       | NA        | four  | 1h  |\n",
    "\n"
   ]
  },
  {
   "cell_type": "code",
   "execution_count": 38,
   "metadata": {},
   "outputs": [
    {
     "data": {
      "text/html": [
       "<table>\n",
       "<thead><tr><th scope=col>id</th><th scope=col>V_1</th><th scope=col>V_2</th><th scope=col>V_3</th><th scope=col>V_4</th></tr></thead>\n",
       "<tbody>\n",
       "\t<tr><td>1        </td><td>42.46757 </td><td>-87.81005</td><td>one      </td><td>1h       </td></tr>\n",
       "\t<tr><td>1        </td><td>42.46757 </td><td>-87.81005</td><td>two      </td><td>1h       </td></tr>\n",
       "\t<tr><td>2        </td><td>42.04915 </td><td>-88.27303</td><td>three    </td><td>8h       </td></tr>\n",
       "\t<tr><td>3        </td><td>39.11054 </td><td>-90.32408</td><td>NA       </td><td>NA       </td></tr>\n",
       "\t<tr><td>4        </td><td>      NA </td><td>       NA</td><td>four     </td><td>1h       </td></tr>\n",
       "</tbody>\n",
       "</table>\n"
      ],
      "text/latex": [
       "\\begin{tabular}{r|lllll}\n",
       " id & V\\_1 & V\\_2 & V\\_3 & V\\_4\\\\\n",
       "\\hline\n",
       "\t 1         & 42.46757  & -87.81005 & one       & 1h       \\\\\n",
       "\t 1         & 42.46757  & -87.81005 & two       & 1h       \\\\\n",
       "\t 2         & 42.04915  & -88.27303 & three     & 8h       \\\\\n",
       "\t 3         & 39.11054  & -90.32408 & NA        & NA       \\\\\n",
       "\t 4         &       NA  &        NA & four      & 1h       \\\\\n",
       "\\end{tabular}\n"
      ],
      "text/markdown": [
       "\n",
       "id | V_1 | V_2 | V_3 | V_4 | \n",
       "|---|---|---|---|---|\n",
       "| 1         | 42.46757  | -87.81005 | one       | 1h        | \n",
       "| 1         | 42.46757  | -87.81005 | two       | 1h        | \n",
       "| 2         | 42.04915  | -88.27303 | three     | 8h        | \n",
       "| 3         | 39.11054  | -90.32408 | NA        | NA        | \n",
       "| 4         |       NA  |        NA | four      | 1h        | \n",
       "\n",
       "\n"
      ],
      "text/plain": [
       "  id V_1      V_2       V_3   V_4\n",
       "1 1  42.46757 -87.81005 one   1h \n",
       "2 1  42.46757 -87.81005 two   1h \n",
       "3 2  42.04915 -88.27303 three 8h \n",
       "4 3  39.11054 -90.32408 NA    NA \n",
       "5 4        NA        NA four  1h "
      ]
     },
     "metadata": {},
     "output_type": "display_data"
    }
   ],
   "source": [
    "df5 <- merge(df3,df4, all=TRUE)\n",
    "df5"
   ]
  },
  {
   "cell_type": "markdown",
   "metadata": {},
   "source": [
    "End of notebook"
   ]
  }
 ],
 "metadata": {
  "anaconda-cloud": {},
  "kernelspec": {
   "display_name": "R",
   "language": "R",
   "name": "ir"
  },
  "language_info": {
   "codemirror_mode": "r",
   "file_extension": ".r",
   "mimetype": "text/x-r-source",
   "name": "R",
   "pygments_lexer": "r",
   "version": "3.4.3"
  }
 },
 "nbformat": 4,
 "nbformat_minor": 1
}
